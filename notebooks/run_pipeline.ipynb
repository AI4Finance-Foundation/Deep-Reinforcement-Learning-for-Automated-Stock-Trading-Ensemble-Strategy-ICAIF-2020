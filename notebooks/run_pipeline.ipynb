{
 "metadata": {
  "language_info": {
   "codemirror_mode": {
    "name": "ipython",
    "version": 3
   },
   "file_extension": ".py",
   "mimetype": "text/x-python",
   "name": "python",
   "nbconvert_exporter": "python",
   "pygments_lexer": "ipython3",
   "version": "3.8.8"
  },
  "orig_nbformat": 2,
  "kernelspec": {
   "name": "python3",
   "display_name": "Python 3.8.8 64-bit ('bdrl': conda)",
   "metadata": {
    "interpreter": {
     "hash": "884827d7ddaa858276f89104a03cd002b38877c13fae0f667c5d4e67e7e2a66a"
    }
   }
  }
 },
 "nbformat": 4,
 "nbformat_minor": 2,
 "cells": [
  {
   "cell_type": "code",
   "execution_count": 14,
   "metadata": {},
   "outputs": [],
   "source": [
    "import pandas as pd\n",
    "import numpy as np\n",
    "import matplotlib\n",
    "import matplotlib.pyplot as plt\n",
    "from sklearn import preprocessing\n",
    "\n",
    "matplotlib.use(\"Agg\")\n",
    "import datetime\n",
    "\n",
    "from finrl.config import config\n",
    "from finrl.marketdata.yahoodownloader import YahooDownloader\n",
    "from finrl.preprocessing.preprocessors import FeatureEngineer\n",
    "from finrl.preprocessing.data import data_split\n",
    "from finrl.env.env_stocktrading import StockTradingEnv\n",
    "from finrl.model.models import DRLAgent\n",
    "from finrl.trade.backtest import backtest_stats, backtest_plot, get_daily_return, get_baseline\n"
   ]
  },
  {
   "cell_type": "code",
   "execution_count": 15,
   "metadata": {},
   "outputs": [
    {
     "output_type": "execute_result",
     "data": {
      "text/plain": [
       "['AAPL',\n",
       " 'MSFT',\n",
       " 'JPM',\n",
       " 'V',\n",
       " 'RTX',\n",
       " 'PG',\n",
       " 'GS',\n",
       " 'NKE',\n",
       " 'DIS',\n",
       " 'AXP',\n",
       " 'HD',\n",
       " 'INTC',\n",
       " 'WMT',\n",
       " 'IBM',\n",
       " 'MRK',\n",
       " 'UNH',\n",
       " 'KO',\n",
       " 'CAT',\n",
       " 'TRV',\n",
       " 'JNJ',\n",
       " 'CVX',\n",
       " 'MCD',\n",
       " 'VZ',\n",
       " 'CSCO',\n",
       " 'XOM',\n",
       " 'BA',\n",
       " 'MMM',\n",
       " 'PFE',\n",
       " 'WBA',\n",
       " 'DD']"
      ]
     },
     "metadata": {},
     "execution_count": 15
    }
   ],
   "source": [
    "config.DOW_30_TICKER"
   ]
  },
  {
   "source": [
    "## Fetch Data"
   ],
   "cell_type": "markdown",
   "metadata": {}
  },
  {
   "cell_type": "code",
   "execution_count": 19,
   "metadata": {},
   "outputs": [],
   "source": [
    "# Loads numerical data from csv if filepath is specified, otherwise downloads it from yfinance for specified dates and tickers\n",
    "def get_numerical_data(filepath='',start_date='2020-01-01',end_date='2021-01-01',ticker_list=config.DOW_30_TICKER):\n",
    "    if filepath:\n",
    "        df = data.load_dataset(filepath)\n",
    "    else:\n",
    "        df = YahooDownloader(start_date=start_date,end_date=end_date,ticker_list=ticker_list).fetch_data()\n",
    "    return df"
   ]
  },
  {
   "cell_type": "code",
   "execution_count": 17,
   "metadata": {},
   "outputs": [],
   "source": [
    "# Need to pull textual data from sources\n",
    "def get_textual_data():\n",
    "    pass\n",
    "\n",
    "# Run through sentiment analysis model to get the sentiment\n",
    "def analyze_textual_data():\n",
    "    pass\n",
    "\n",
    "# Compute sentiment score. This needs to be computed for every ticker and day based on the sentiment analysis models output for text related to that day.\n",
    "def compute_score():\n",
    "    pass"
   ]
  },
  {
   "cell_type": "code",
   "execution_count": 20,
   "metadata": {},
   "outputs": [
    {
     "output_type": "stream",
     "name": "stdout",
     "text": [
      "[*********************100%***********************]  1 of 1 completed\n",
      "[*********************100%***********************]  1 of 1 completed\n",
      "[*********************100%***********************]  1 of 1 completed\n",
      "[*********************100%***********************]  1 of 1 completed\n",
      "[*********************100%***********************]  1 of 1 completed\n",
      "[*********************100%***********************]  1 of 1 completed\n",
      "[*********************100%***********************]  1 of 1 completed\n",
      "[*********************100%***********************]  1 of 1 completed\n",
      "[*********************100%***********************]  1 of 1 completed\n",
      "[*********************100%***********************]  1 of 1 completed\n",
      "[*********************100%***********************]  1 of 1 completed\n",
      "[*********************100%***********************]  1 of 1 completed\n",
      "[*********************100%***********************]  1 of 1 completed\n",
      "[*********************100%***********************]  1 of 1 completed\n",
      "[*********************100%***********************]  1 of 1 completed\n",
      "[*********************100%***********************]  1 of 1 completed\n",
      "[*********************100%***********************]  1 of 1 completed\n",
      "[*********************100%***********************]  1 of 1 completed\n",
      "[*********************100%***********************]  1 of 1 completed\n",
      "[*********************100%***********************]  1 of 1 completed\n",
      "[*********************100%***********************]  1 of 1 completed\n",
      "[*********************100%***********************]  1 of 1 completed\n",
      "[*********************100%***********************]  1 of 1 completed\n",
      "[*********************100%***********************]  1 of 1 completed\n",
      "[*********************100%***********************]  1 of 1 completed\n",
      "[*********************100%***********************]  1 of 1 completed\n",
      "[*********************100%***********************]  1 of 1 completed\n",
      "[*********************100%***********************]  1 of 1 completed\n",
      "[*********************100%***********************]  1 of 1 completed\n",
      "[*********************100%***********************]  1 of 1 completed\n",
      "Shape of DataFrame:  (7590, 8)\n"
     ]
    }
   ],
   "source": [
    "numerical_df = get_numerical_data()"
   ]
  },
  {
   "cell_type": "code",
   "execution_count": 21,
   "metadata": {},
   "outputs": [
    {
     "output_type": "execute_result",
     "data": {
      "text/plain": [
       "         date        open        high         low       close     volume  \\\n",
       "0  2020-01-02   74.059998   75.150002   73.797501   74.333511  135480400   \n",
       "1  2020-01-02  124.660004  126.269997  124.230003  123.637741    2708000   \n",
       "2  2020-01-02  328.549988  333.350006  327.700012  331.348572    4544400   \n",
       "3  2020-01-02  149.000000  150.550003  147.979996  145.354584    3311900   \n",
       "4  2020-01-02   48.060001   48.419998   47.880001   46.776043   16708100   \n",
       "\n",
       "    tic  day  \n",
       "0  AAPL    3  \n",
       "1   AXP    3  \n",
       "2    BA    3  \n",
       "3   CAT    3  \n",
       "4  CSCO    3  "
      ],
      "text/html": "<div>\n<style scoped>\n    .dataframe tbody tr th:only-of-type {\n        vertical-align: middle;\n    }\n\n    .dataframe tbody tr th {\n        vertical-align: top;\n    }\n\n    .dataframe thead th {\n        text-align: right;\n    }\n</style>\n<table border=\"1\" class=\"dataframe\">\n  <thead>\n    <tr style=\"text-align: right;\">\n      <th></th>\n      <th>date</th>\n      <th>open</th>\n      <th>high</th>\n      <th>low</th>\n      <th>close</th>\n      <th>volume</th>\n      <th>tic</th>\n      <th>day</th>\n    </tr>\n  </thead>\n  <tbody>\n    <tr>\n      <th>0</th>\n      <td>2020-01-02</td>\n      <td>74.059998</td>\n      <td>75.150002</td>\n      <td>73.797501</td>\n      <td>74.333511</td>\n      <td>135480400</td>\n      <td>AAPL</td>\n      <td>3</td>\n    </tr>\n    <tr>\n      <th>1</th>\n      <td>2020-01-02</td>\n      <td>124.660004</td>\n      <td>126.269997</td>\n      <td>124.230003</td>\n      <td>123.637741</td>\n      <td>2708000</td>\n      <td>AXP</td>\n      <td>3</td>\n    </tr>\n    <tr>\n      <th>2</th>\n      <td>2020-01-02</td>\n      <td>328.549988</td>\n      <td>333.350006</td>\n      <td>327.700012</td>\n      <td>331.348572</td>\n      <td>4544400</td>\n      <td>BA</td>\n      <td>3</td>\n    </tr>\n    <tr>\n      <th>3</th>\n      <td>2020-01-02</td>\n      <td>149.000000</td>\n      <td>150.550003</td>\n      <td>147.979996</td>\n      <td>145.354584</td>\n      <td>3311900</td>\n      <td>CAT</td>\n      <td>3</td>\n    </tr>\n    <tr>\n      <th>4</th>\n      <td>2020-01-02</td>\n      <td>48.060001</td>\n      <td>48.419998</td>\n      <td>47.880001</td>\n      <td>46.776043</td>\n      <td>16708100</td>\n      <td>CSCO</td>\n      <td>3</td>\n    </tr>\n  </tbody>\n</table>\n</div>"
     },
     "metadata": {},
     "execution_count": 21
    }
   ],
   "source": [
    "numerical_df.head()"
   ]
  },
  {
   "source": [
    "## Preprocess data"
   ],
   "cell_type": "markdown",
   "metadata": {}
  },
  {
   "cell_type": "code",
   "execution_count": 6,
   "metadata": {},
   "outputs": [],
   "source": [
    "def join_data(numerical_df,sentiment_df):\n",
    "    return numerical_df.merge(sentiment_df,on=['datadate','tic'])\n"
   ]
  },
  {
   "cell_type": "code",
   "execution_count": 7,
   "metadata": {},
   "outputs": [],
   "source": [
    "def preprocess_data(numerical_df,sentiment_df,use_turbulence=False):\n",
    "    fe = FeatureEngineer(use_turbulence=use_turbulence)\n",
    "    numerical_df = fe.preprocess_data(numerical_df)\n",
    "    df = join_data(numerical_df,sentiment_df)\n",
    "    return df"
   ]
  },
  {
   "cell_type": "code",
   "execution_count": 22,
   "metadata": {},
   "outputs": [
    {
     "output_type": "stream",
     "name": "stdout",
     "text": [
      "Successfully added technical indicators\n"
     ]
    }
   ],
   "source": [
    "fe = FeatureEngineer()\n",
    "numerical_df = fe.preprocess_data(numerical_df)"
   ]
  },
  {
   "cell_type": "code",
   "execution_count": 23,
   "metadata": {},
   "outputs": [
    {
     "output_type": "execute_result",
     "data": {
      "text/plain": [
       "         date        open        high         low       close     volume  \\\n",
       "0  2020-01-02   74.059998   75.150002   73.797501   74.333511  135480400   \n",
       "1  2020-01-02  124.660004  126.269997  124.230003  123.637741    2708000   \n",
       "2  2020-01-02  328.549988  333.350006  327.700012  331.348572    4544400   \n",
       "3  2020-01-02  149.000000  150.550003  147.979996  145.354584    3311900   \n",
       "4  2020-01-02   48.060001   48.419998   47.880001   46.776043   16708100   \n",
       "\n",
       "    tic  day      macd    boll_ub    boll_lb     rsi_30      cci_30  \\\n",
       "0  AAPL    3  0.000000  74.994187  72.950164   0.000000  -66.666667   \n",
       "1   AXP    3 -0.016214  74.994187  72.950164   0.000000  -66.666667   \n",
       "2    BA    3 -0.002471  74.815289  73.279208  45.641442 -100.000000   \n",
       "3   CAT    3 -0.008758  74.655408  73.339686  35.632520   81.412298   \n",
       "4  CSCO    3  0.035281  75.295238  73.115391  63.681143  166.666667   \n",
       "\n",
       "        dx_30  close_30_sma  close_60_sma  \n",
       "0  100.000000     74.333511     74.333511  \n",
       "1  100.000000     73.972176     73.972176  \n",
       "2  100.000000     74.047249     74.047249  \n",
       "3   57.734339     73.997547     73.997547  \n",
       "4   14.772271     74.205315     74.205315  "
      ],
      "text/html": "<div>\n<style scoped>\n    .dataframe tbody tr th:only-of-type {\n        vertical-align: middle;\n    }\n\n    .dataframe tbody tr th {\n        vertical-align: top;\n    }\n\n    .dataframe thead th {\n        text-align: right;\n    }\n</style>\n<table border=\"1\" class=\"dataframe\">\n  <thead>\n    <tr style=\"text-align: right;\">\n      <th></th>\n      <th>date</th>\n      <th>open</th>\n      <th>high</th>\n      <th>low</th>\n      <th>close</th>\n      <th>volume</th>\n      <th>tic</th>\n      <th>day</th>\n      <th>macd</th>\n      <th>boll_ub</th>\n      <th>boll_lb</th>\n      <th>rsi_30</th>\n      <th>cci_30</th>\n      <th>dx_30</th>\n      <th>close_30_sma</th>\n      <th>close_60_sma</th>\n    </tr>\n  </thead>\n  <tbody>\n    <tr>\n      <th>0</th>\n      <td>2020-01-02</td>\n      <td>74.059998</td>\n      <td>75.150002</td>\n      <td>73.797501</td>\n      <td>74.333511</td>\n      <td>135480400</td>\n      <td>AAPL</td>\n      <td>3</td>\n      <td>0.000000</td>\n      <td>74.994187</td>\n      <td>72.950164</td>\n      <td>0.000000</td>\n      <td>-66.666667</td>\n      <td>100.000000</td>\n      <td>74.333511</td>\n      <td>74.333511</td>\n    </tr>\n    <tr>\n      <th>1</th>\n      <td>2020-01-02</td>\n      <td>124.660004</td>\n      <td>126.269997</td>\n      <td>124.230003</td>\n      <td>123.637741</td>\n      <td>2708000</td>\n      <td>AXP</td>\n      <td>3</td>\n      <td>-0.016214</td>\n      <td>74.994187</td>\n      <td>72.950164</td>\n      <td>0.000000</td>\n      <td>-66.666667</td>\n      <td>100.000000</td>\n      <td>73.972176</td>\n      <td>73.972176</td>\n    </tr>\n    <tr>\n      <th>2</th>\n      <td>2020-01-02</td>\n      <td>328.549988</td>\n      <td>333.350006</td>\n      <td>327.700012</td>\n      <td>331.348572</td>\n      <td>4544400</td>\n      <td>BA</td>\n      <td>3</td>\n      <td>-0.002471</td>\n      <td>74.815289</td>\n      <td>73.279208</td>\n      <td>45.641442</td>\n      <td>-100.000000</td>\n      <td>100.000000</td>\n      <td>74.047249</td>\n      <td>74.047249</td>\n    </tr>\n    <tr>\n      <th>3</th>\n      <td>2020-01-02</td>\n      <td>149.000000</td>\n      <td>150.550003</td>\n      <td>147.979996</td>\n      <td>145.354584</td>\n      <td>3311900</td>\n      <td>CAT</td>\n      <td>3</td>\n      <td>-0.008758</td>\n      <td>74.655408</td>\n      <td>73.339686</td>\n      <td>35.632520</td>\n      <td>81.412298</td>\n      <td>57.734339</td>\n      <td>73.997547</td>\n      <td>73.997547</td>\n    </tr>\n    <tr>\n      <th>4</th>\n      <td>2020-01-02</td>\n      <td>48.060001</td>\n      <td>48.419998</td>\n      <td>47.880001</td>\n      <td>46.776043</td>\n      <td>16708100</td>\n      <td>CSCO</td>\n      <td>3</td>\n      <td>0.035281</td>\n      <td>75.295238</td>\n      <td>73.115391</td>\n      <td>63.681143</td>\n      <td>166.666667</td>\n      <td>14.772271</td>\n      <td>74.205315</td>\n      <td>74.205315</td>\n    </tr>\n  </tbody>\n</table>\n</div>"
     },
     "metadata": {},
     "execution_count": 23
    }
   ],
   "source": [
    "numerical_df.head()"
   ]
  },
  {
   "cell_type": "code",
   "execution_count": 10,
   "metadata": {},
   "outputs": [
    {
     "output_type": "error",
     "ename": "NameError",
     "evalue": "name 'training' is not defined",
     "traceback": [
      "\u001b[0;31m---------------------------------------------------------------------------\u001b[0m",
      "\u001b[0;31mNameError\u001b[0m                                 Traceback (most recent call last)",
      "\u001b[0;32m<ipython-input-10-e911da7d04e4>\u001b[0m in \u001b[0;36m<module>\u001b[0;34m\u001b[0m\n\u001b[0;32m----> 1\u001b[0;31m \u001b[0mtraining\u001b[0m\u001b[0;34m.\u001b[0m\u001b[0mtrain_one\u001b[0m\u001b[0;34m(\u001b[0m\u001b[0;34m)\u001b[0m\u001b[0;34m\u001b[0m\u001b[0;34m\u001b[0m\u001b[0m\n\u001b[0m",
      "\u001b[0;31mNameError\u001b[0m: name 'training' is not defined"
     ]
    }
   ],
   "source": []
  },
  {
   "cell_type": "code",
   "execution_count": null,
   "metadata": {},
   "outputs": [],
   "source": []
  }
 ]
}